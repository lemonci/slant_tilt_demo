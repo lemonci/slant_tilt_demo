{
 "cells": [
  {
   "cell_type": "code",
   "execution_count": null,
   "metadata": {},
   "outputs": [],
   "source": [
    "import pandas as pd\n",
    "import numpy as np\n",
    "from sklearn import linear_model\n",
    "#from sklearn.metrics import mean_squared_error, r2_score, explained_variance_score\n",
    "STROKE = 'STROKE'\n",
    "CHARACTER = 'CHARACTER'"
   ]
  },
  {
   "cell_type": "code",
   "execution_count": null,
   "metadata": {},
   "outputs": [],
   "source": [
    "#Judge whether a stroke is vertial or horizonal\n",
    "def vert(chardf):\n",
    "    regrv = linear_model.LinearRegression()\n",
    "    regrh = linear_model.LinearRegression()\n",
    "    newdf = pd.DataFrame(columns =['SAMPLE','CHARACTER','STROKE','POINT','X','Y','Z','Vertical'])\n",
    "    for i in range(chardf[STROKE].max()+1):\n",
    "        chardfX = chardf.loc[chardf.STROKE == i].loc[:,['X']]\n",
    "        chardfY = chardf.loc[chardf.STROKE == i].loc[:,['Y']]\n",
    "        regrv.fit(chardfX, chardfY)\n",
    "        regrh.fit(chardfY, chardfX)\n",
    "        slope = regrv.coef_[0]\n",
    "        slope_r = regrh.coef_[0]\n",
    "        #vertical stroke\n",
    "        if (slope_r > -0.5773) and (slope_r < 0.5773):\n",
    "            vertdf = chardf.loc[chardf.STROKE == i].assign(Vertical = 1)\n",
    "            newdf = newdf.append(vertdf)\n",
    "         #horizontal stroke\n",
    "        elif (slope <0.3839) and (slope > -0.8098):\n",
    "            vertdf = chardf.loc[chardf.STROKE == i].assign(Vertical = -1)\n",
    "            newdf = newdf.append(vertdf)\n",
    "        else:\n",
    "            vertdf = chardf.loc[chardf.STROKE == i]\n",
    "            newdf = newdf.append(vertdf)\n",
    "    return newdf"
   ]
  },
  {
   "cell_type": "code",
   "execution_count": null,
   "metadata": {},
   "outputs": [],
   "source": [
    "#read file\n",
    "df = pd.read_pickle('example.pkl')"
   ]
  },
  {
   "cell_type": "code",
   "execution_count": null,
   "metadata": {},
   "outputs": [],
   "source": [
    "#calculate linear regression result\n",
    "df = df.assign(Vertical = 0)\n",
    "charlist = df.loc[:,'CHARACTER'].drop_duplicates().tolist()\n",
    "wholedf = pd.DataFrame()\n",
    "for i in charlist:\n",
    "    wholedf =wholedf.append(vert(df.loc[(df.CHARACTER == i)]))"
   ]
  },
  {
   "cell_type": "code",
   "execution_count": null,
   "metadata": {},
   "outputs": [],
   "source": [
    "raw = wholedf[['CHARACTER', 'STROKE', 'POINT','X', 'Y', 'Vertical']]\n",
    "new = pd.DataFrame(columns = ['CHARACTER', 'STROKE', 'POINT','X', 'Y', 'Vertical'])\n",
    "new = new.append(raw.iloc[0])"
   ]
  },
  {
   "cell_type": "code",
   "execution_count": null,
   "metadata": {},
   "outputs": [],
   "source": [
    "#drop the points too close to each other\n",
    "count = 0\n",
    "while count < raw.shape[0]:    \n",
    "    x0 = raw.iloc[0]['X']\n",
    "    y0 = raw.iloc[0]['Y']\n",
    "    if (raw.iloc[count][3] - x0)**2 + (raw.iloc[count][4] - y0)**2 < 100:\n",
    "        count += 1        \n",
    "    else:\n",
    "        new = new.append(raw.iloc[count])\n",
    "        raw = raw.iloc[count+1:]\n",
    "        count = 0\n",
    "#take difference and calculate angle\n",
    "new['X_diff'] = np.nan\n",
    "new['Y_diff'] = np.nan\n",
    "new['Angle'] = np.nan\n",
    "for i in range(1,new.shape[0]):\n",
    "    if new.iloc[i,1] == new.iloc[i-1,1]:\n",
    "        new.iloc[i,6] = new.iloc[i,3]-new.iloc[i-1,3]\n",
    "        new.iloc[i,7] = new.iloc[i,4]-new.iloc[i-1,4]\n",
    "        new.iloc[i,8] = round(np.angle(complex(new.iloc[i,6],new.iloc[i,7]),deg = True))"
   ]
  },
  {
   "cell_type": "code",
   "execution_count": null,
   "metadata": {},
   "outputs": [],
   "source": [
    "#prepare data for slant and tile calculation\n",
    "new = new.dropna()\n",
    "slantdf = new[new['Vertical']==1]\n",
    "tiltdf = new[new['Vertical']==-1]"
   ]
  },
  {
   "cell_type": "code",
   "execution_count": null,
   "metadata": {},
   "outputs": [],
   "source": [
    "print(\"slant: \", slantdf['Angle'].mode()[0], \", tilt:\", tiltdf['Angle'].mode()[0])"
   ]
  }
 ],
 "metadata": {
  "kernelspec": {
   "display_name": "Python 3",
   "language": "python",
   "name": "python3"
  },
  "language_info": {
   "codemirror_mode": {
    "name": "ipython",
    "version": 3
   },
   "file_extension": ".py",
   "mimetype": "text/x-python",
   "name": "python",
   "nbconvert_exporter": "python",
   "pygments_lexer": "ipython3",
   "version": "3.6.5"
  }
 },
 "nbformat": 4,
 "nbformat_minor": 2
}
